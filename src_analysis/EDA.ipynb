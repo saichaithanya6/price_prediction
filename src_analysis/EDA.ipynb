{
 "cells": [
  {
   "cell_type": "code",
   "execution_count": 11,
   "metadata": {},
   "outputs": [],
   "source": [
    "#Importing the libraries\n",
    "import numpy as np\n",
    "import matplotlib.pyplot as plt\n",
    "import pandas as pd\n",
    "\n",
    "from basic_data_inspection import DataInspector, summary_statistics_inspection, DataTypeInspection\n",
    "from missing_values_analysis import MissingValuesAnalysis, SimpleMissingValuesAnalysis\n",
    "from univariate_analysis import UnivariateAnalysis, CategoricalUnivariateAnalysis, NumericalUnivariateAnalysis\n",
    "from bivariate_analysis import NumericalNumericalAnalysis, NumericalCategoricalAnalysis, BivariateAnalysisContext\n",
    "from multivariate_analysis import Simplemultivariate_analysis\n",
    "\n",
    "\n"
   ]
  },
  {
   "cell_type": "code",
   "execution_count": 12,
   "metadata": {},
   "outputs": [],
   "source": [
    "# Set display options for better readability\n",
    "pd.set_option('display.max_columns', None)"
   ]
  },
  {
   "cell_type": "code",
   "execution_count": 20,
   "metadata": {},
   "outputs": [],
   "source": [
    "#Load the data\n",
    "data_path = '../extracted_data/AmesHousing.csv'\n",
    "data = pd.read_csv(data_path)"
   ]
  },
  {
   "cell_type": "code",
   "execution_count": 21,
   "metadata": {},
   "outputs": [
    {
     "ename": "TypeError",
     "evalue": "DataTypeInspection.inspect() missing 1 required positional argument: 'data'",
     "output_type": "error",
     "traceback": [
      "\u001b[1;31m---------------------------------------------------------------------------\u001b[0m",
      "\u001b[1;31mTypeError\u001b[0m                                 Traceback (most recent call last)",
      "Cell \u001b[1;32mIn[21], line 3\u001b[0m\n\u001b[0;32m      1\u001b[0m \u001b[38;5;66;03m#Data Inspection\u001b[39;00m\n\u001b[0;32m      2\u001b[0m data_inspector \u001b[38;5;241m=\u001b[39m DataInspector(DataTypeInspection)\n\u001b[1;32m----> 3\u001b[0m data_inspector\u001b[38;5;241m.\u001b[39mexecute_inspection(data)\n",
      "File \u001b[1;32md:\\projects\\price_prediction\\src_analysis\\basic_data_inspection.py:40\u001b[0m, in \u001b[0;36mDataInspector.execute_inspection\u001b[1;34m(self, data)\u001b[0m\n\u001b[0;32m     38\u001b[0m \u001b[38;5;28;01mdef\u001b[39;00m \u001b[38;5;21mexecute_inspection\u001b[39m(\u001b[38;5;28mself\u001b[39m, data: pd\u001b[38;5;241m.\u001b[39mDataFrame):\n\u001b[0;32m     39\u001b[0m \u001b[38;5;250m    \u001b[39m\u001b[38;5;124;03m'''Executes the strategy to inspect the data'''\u001b[39;00m\n\u001b[1;32m---> 40\u001b[0m     \u001b[38;5;28;01mreturn\u001b[39;00m \u001b[38;5;28mself\u001b[39m\u001b[38;5;241m.\u001b[39mstrategy\u001b[38;5;241m.\u001b[39minspect(data)\n",
      "\u001b[1;31mTypeError\u001b[0m: DataTypeInspection.inspect() missing 1 required positional argument: 'data'"
     ]
    }
   ],
   "source": [
    "#Data Inspection\n",
    "data_inspector = DataInspector(DataTypeInspection)\n",
    "data_inspector.execute_inspection(data)"
   ]
  },
  {
   "cell_type": "code",
   "execution_count": null,
   "metadata": {},
   "outputs": [],
   "source": []
  }
 ],
 "metadata": {
  "kernelspec": {
   "display_name": "base",
   "language": "python",
   "name": "python3"
  },
  "language_info": {
   "codemirror_mode": {
    "name": "ipython",
    "version": 3
   },
   "file_extension": ".py",
   "mimetype": "text/x-python",
   "name": "python",
   "nbconvert_exporter": "python",
   "pygments_lexer": "ipython3",
   "version": "3.12.4"
  }
 },
 "nbformat": 4,
 "nbformat_minor": 2
}
