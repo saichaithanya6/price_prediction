{
 "cells": [
  {
   "cell_type": "code",
   "execution_count": null,
   "metadata": {},
   "outputs": [],
   "source": [
    "#Importing the libraries\n",
    "import numpy as np\n",
    "import matplotlib.pyplot as plt\n",
    "import pandas as pd\n",
    "\n",
    "from basic_data_inspection import DataInspector, summary_statistics_inspection, DataTypeInspection\n",
    "from missing_values_analysis import MissingValuesAnalysis, SimpleMissingValuesAnalysis\n",
    "from univariate_analysis import UnivariateAnalysis, CategoricalUnivariateAnalysis, NumericalUnivariateAnalysis\n",
    "from bivariate_analysis import NumericalNumericalAnalysis, NumericalCategoricalAnalysis, BivariateAnalysisContext\n",
    "from multivariate_analysis import Simplemultivariate_analysis\n",
    "\n",
    "\n"
   ]
  }
 ],
 "metadata": {
  "kernelspec": {
   "display_name": "price_prediction",
   "language": "python",
   "name": "python3"
  },
  "language_info": {
   "name": "python",
   "version": "3.10.16"
  }
 },
 "nbformat": 4,
 "nbformat_minor": 2
}
